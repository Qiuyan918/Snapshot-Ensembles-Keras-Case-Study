{
  "nbformat": 4,
  "nbformat_minor": 0,
  "metadata": {
    "colab": {
      "name": "Snapshot Ensemble.ipynb",
      "provenance": [],
      "collapsed_sections": [],
      "toc_visible": true,
      "include_colab_link": true
    },
    "kernelspec": {
      "name": "python3",
      "display_name": "Python 3"
    },
    "accelerator": "GPU"
  },
  "cells": [
    {
      "cell_type": "markdown",
      "metadata": {
        "id": "view-in-github",
        "colab_type": "text"
      },
      "source": [
        "<a href=\"https://colab.research.google.com/github/Qiuyan918/Snapshot-Ensembles-Keras-Case-Study/blob/master/Snapshot_Ensemble.ipynb\" target=\"_parent\"><img src=\"https://colab.research.google.com/assets/colab-badge.svg\" alt=\"Open In Colab\"/></a>"
      ]
    },
    {
      "cell_type": "code",
      "metadata": {
        "id": "1nNr_3eufX7V",
        "colab_type": "code",
        "outputId": "d6266c4f-3955-48e8-cff1-86c90ece9f6a",
        "colab": {
          "base_uri": "https://localhost:8080/",
          "height": 99
        }
      },
      "source": [
        "import pandas as pd\n",
        "import numpy as np\n",
        "from sklearn.model_selection import train_test_split\n",
        "from sklearn.metrics import accuracy_score\n",
        "from keras.utils import to_categorical\n",
        "from keras.layers import Input, Dropout, Add, Dense, Activation, ZeroPadding2D, BatchNormalization, Flatten, Conv2D, AveragePooling2D, MaxPooling2D, GlobalMaxPooling2D\n",
        "from keras.initializers import glorot_uniform\n",
        "from keras.models import Model, load_model, Sequential\n",
        "from keras.callbacks import Callback\n",
        "import keras.callbacks as callbacks\n",
        "from keras import backend as K\n",
        "from keras.optimizers import SGD\n",
        "from keras.datasets import cifar10\n",
        "from keras.preprocessing.image import ImageDataGenerator\n",
        "from keras.applications.densenet import DenseNet121\n",
        "from matplotlib import pyplot as plt\n",
        "import math\n",
        "\n",
        "import warnings\n",
        "warnings.filterwarnings('ignore')"
      ],
      "execution_count": 1,
      "outputs": [
        {
          "output_type": "stream",
          "text": [
            "Using TensorFlow backend.\n"
          ],
          "name": "stderr"
        },
        {
          "output_type": "display_data",
          "data": {
            "text/html": [
              "<p style=\"color: red;\">\n",
              "The default version of TensorFlow in Colab will soon switch to TensorFlow 2.x.<br>\n",
              "We recommend you <a href=\"https://www.tensorflow.org/guide/migrate\" target=\"_blank\">upgrade</a> now \n",
              "or ensure your notebook will continue to use TensorFlow 1.x via the <code>%tensorflow_version 1.x</code> magic:\n",
              "<a href=\"https://colab.research.google.com/notebooks/tensorflow_version.ipynb\" target=\"_blank\">more info</a>.</p>\n"
            ],
            "text/plain": [
              "<IPython.core.display.HTML object>"
            ]
          },
          "metadata": {
            "tags": []
          }
        }
      ]
    },
    {
      "cell_type": "markdown",
      "metadata": {
        "id": "Yi7FW2DxlJ2x",
        "colab_type": "text"
      },
      "source": [
        "# 1.Data\n"
      ]
    },
    {
      "cell_type": "code",
      "metadata": {
        "id": "CzV4IL0clEBz",
        "colab_type": "code",
        "outputId": "b59054bc-5209-40d7-9947-7c7417ca65c9",
        "colab": {
          "base_uri": "https://localhost:8080/",
          "height": 87
        }
      },
      "source": [
        "(trainX, trainY), (testX, testY) = cifar10.load_data()\n",
        "\n",
        "print(f'trainX shape: {trainX.shape}')\n",
        "print(f'testX shape: {testX.shape}')"
      ],
      "execution_count": 2,
      "outputs": [
        {
          "output_type": "stream",
          "text": [
            "Downloading data from https://www.cs.toronto.edu/~kriz/cifar-10-python.tar.gz\n",
            "170500096/170498071 [==============================] - 13s 0us/step\n",
            "trainX shape: (50000, 32, 32, 3)\n",
            "testX shape: (10000, 32, 32, 3)\n"
          ],
          "name": "stdout"
        }
      ]
    },
    {
      "cell_type": "code",
      "metadata": {
        "id": "duqTGC15qHn5",
        "colab_type": "code",
        "outputId": "f43dda47-43ce-424a-ba7c-0be59477d6c4",
        "colab": {
          "base_uri": "https://localhost:8080/",
          "height": 139
        }
      },
      "source": [
        "trainY_cat = to_categorical(trainY)\n",
        "testY_cat = to_categorical(testY)\n",
        "print(trainY_cat)"
      ],
      "execution_count": 3,
      "outputs": [
        {
          "output_type": "stream",
          "text": [
            "[[0. 0. 0. ... 0. 0. 0.]\n",
            " [0. 0. 0. ... 0. 0. 1.]\n",
            " [0. 0. 0. ... 0. 0. 1.]\n",
            " ...\n",
            " [0. 0. 0. ... 0. 0. 1.]\n",
            " [0. 1. 0. ... 0. 0. 0.]\n",
            " [0. 1. 0. ... 0. 0. 0.]]\n"
          ],
          "name": "stdout"
        }
      ]
    },
    {
      "cell_type": "code",
      "metadata": {
        "id": "6LKHJjZPqclT",
        "colab_type": "code",
        "colab": {}
      },
      "source": [
        "trainX = trainX.astype('float32')\n",
        "trainX /= 255.0\n",
        "testX = testX.astype('float32')\n",
        "testX /= 255.0"
      ],
      "execution_count": 0,
      "outputs": []
    },
    {
      "cell_type": "code",
      "metadata": {
        "id": "DdVm4toTrAah",
        "colab_type": "code",
        "outputId": "967b7046-5f13-49fe-efab-852b78f5ca0e",
        "colab": {
          "base_uri": "https://localhost:8080/",
          "height": 283
        }
      },
      "source": [
        "idx = 4\n",
        "plt.imshow(trainX[idx][:,:,0])"
      ],
      "execution_count": 5,
      "outputs": [
        {
          "output_type": "execute_result",
          "data": {
            "text/plain": [
              "<matplotlib.image.AxesImage at 0x7ffa7acdc358>"
            ]
          },
          "metadata": {
            "tags": []
          },
          "execution_count": 5
        },
        {
          "output_type": "display_data",
          "data": {
            "image/png": "[encoded data removed]",
            "text/plain": [
              "<Figure size 432x288 with 1 Axes>"
            ]
          },
          "metadata": {
            "tags": []
          }
        }
      ]
    },
    {
      "cell_type": "markdown",
      "metadata": {
        "id": "vfhN3a2TtXay",
        "colab_type": "text"
      },
      "source": [
        "# 2.Baseline"
      ]
    },
    {
      "cell_type": "code",
      "metadata": {
        "id": "PVX1XD0gcbzP",
        "colab_type": "code",
        "colab": {}
      },
      "source": [
        "class LearningRateScheduler(Callback):\n",
        "  def __init__(self, n_epochs, verbose=0):\n",
        "    self.epochs = n_epochs\n",
        "    self.lrates = list()\n",
        "\n",
        "  def lr_scheduler(self, epoch, n_epochs):\n",
        "    initial_lrate = 0.1\n",
        "    lrate = initial_lrate * np.exp(-0.1*epoch)\n",
        "    return lrate\n",
        "\n",
        "  def on_epoch_begin(self, epoch, logs={}):\n",
        "    lr = self.lr_scheduler(epoch, self.epochs)\n",
        "    print(f'epoch {epoch+1}, lr {lr}')\n",
        "    K.set_value(self.model.optimizer.lr, lr)\n",
        "    self.lrates.append(lr)"
      ],
      "execution_count": 0,
      "outputs": []
    },
    {
      "cell_type": "code",
      "metadata": {
        "id": "Iex9l56D3zTT",
        "colab_type": "code",
        "colab": {}
      },
      "source": [
        "# https://keras.io/examples/cifar10_cnn/\n",
        "def my_model():\n",
        "  model = Sequential()\n",
        "  model.add(Conv2D(32, (3, 3), padding='same',\n",
        "                  input_shape=trainX.shape[1:]))\n",
        "  model.add(Activation('relu'))\n",
        "  model.add(Conv2D(32, (3, 3)))\n",
        "  model.add(Activation('relu'))\n",
        "  model.add(MaxPooling2D(pool_size=(2, 2)))\n",
        "  model.add(Dropout(0.25))\n",
        "\n",
        "  model.add(Conv2D(64, (3, 3), padding='same'))\n",
        "  model.add(Activation('relu'))\n",
        "  model.add(Conv2D(64, (3, 3)))\n",
        "  model.add(Activation('relu'))\n",
        "  model.add(MaxPooling2D(pool_size=(2, 2)))\n",
        "  model.add(Dropout(0.25))\n",
        "\n",
        "  model.add(Flatten())\n",
        "  model.add(Dense(512))\n",
        "  model.add(Activation('relu'))\n",
        "  model.add(Dropout(0.5))\n",
        "  model.add(Dense(10))\n",
        "  model.add(Activation('softmax'))\n",
        "  return model"
      ],
      "execution_count": 0,
      "outputs": []
    },
    {
      "cell_type": "code",
      "metadata": {
        "id": "pqx5suBNtgYb",
        "colab_type": "code",
        "outputId": "bce1808c-5a1f-4c44-92ff-df45253ae4ee",
        "colab": {
          "base_uri": "https://localhost:8080/",
          "height": 1000
        }
      },
      "source": [
        "%%time\n",
        "model = my_model()\n",
        "model.compile('sgd', loss='categorical_crossentropy', metrics=['accuracy'])\n",
        "\n",
        "batch_size = 32\n",
        "n_epochs = 60\n",
        "lrs = LearningRateScheduler(n_epochs)\n",
        "\n",
        "history = model.fit(trainX, trainY_cat, validation_data=(testX, testY_cat), batch_size = batch_size, epochs=n_epochs,callbacks=[lrs])"
      ],
      "execution_count": 8,
      "outputs": [
        {
          "output_type": "stream",
          "text": [
            "WARNING:tensorflow:From /usr/local/lib/python3.6/dist-packages/keras/backend/tensorflow_backend.py:66: The name tf.get_default_graph is deprecated. Please use tf.compat.v1.get_default_graph instead.\n",
            "\n",
            "WARNING:tensorflow:From /usr/local/lib/python3.6/dist-packages/keras/backend/tensorflow_backend.py:541: The name tf.placeholder is deprecated. Please use tf.compat.v1.placeholder instead.\n",
            "\n",
            "WARNING:tensorflow:From /usr/local/lib/python3.6/dist-packages/keras/backend/tensorflow_backend.py:4432: The name tf.random_uniform is deprecated. Please use tf.random.uniform instead.\n",
            "\n",
            "WARNING:tensorflow:From /usr/local/lib/python3.6/dist-packages/keras/backend/tensorflow_backend.py:4267: The name tf.nn.max_pool is deprecated. Please use tf.nn.max_pool2d instead.\n",
            "\n",
            "WARNING:tensorflow:From /usr/local/lib/python3.6/dist-packages/keras/backend/tensorflow_backend.py:148: The name tf.placeholder_with_default is deprecated. Please use tf.compat.v1.placeholder_with_default instead.\n",
            "\n",
            "WARNING:tensorflow:From /usr/local/lib/python3.6/dist-packages/keras/backend/tensorflow_backend.py:3733: calling dropout (from tensorflow.python.ops.nn_ops) with keep_prob is deprecated and will be removed in a future version.\n",
            "Instructions for updating:\n",
            "Please use `rate` instead of `keep_prob`. Rate should be set to `rate = 1 - keep_prob`.\n",
            "WARNING:tensorflow:From /usr/local/lib/python3.6/dist-packages/keras/optimizers.py:793: The name tf.train.Optimizer is deprecated. Please use tf.compat.v1.train.Optimizer instead.\n",
            "\n",
            "WARNING:tensorflow:From /usr/local/lib/python3.6/dist-packages/keras/backend/tensorflow_backend.py:3576: The name tf.log is deprecated. Please use tf.math.log instead.\n",
            "\n",
            "WARNING:tensorflow:From /usr/local/lib/python3.6/dist-packages/tensorflow_core/python/ops/math_grad.py:1424: where (from tensorflow.python.ops.array_ops) is deprecated and will be removed in a future version.\n",
            "Instructions for updating:\n",
            "Use tf.where in 2.0, which has the same broadcast rule as np.where\n",
            "WARNING:tensorflow:From /usr/local/lib/python3.6/dist-packages/keras/backend/tensorflow_backend.py:1033: The name tf.assign_add is deprecated. Please use tf.compat.v1.assign_add instead.\n",
            "\n",
            "WARNING:tensorflow:From /usr/local/lib/python3.6/dist-packages/keras/backend/tensorflow_backend.py:1020: The name tf.assign is deprecated. Please use tf.compat.v1.assign instead.\n",
            "\n",
            "WARNING:tensorflow:From /usr/local/lib/python3.6/dist-packages/keras/backend/tensorflow_backend.py:3005: The name tf.Session is deprecated. Please use tf.compat.v1.Session instead.\n",
            "\n",
            "Train on 50000 samples, validate on 10000 samples\n",
            "Epoch 1/60\n",
            "epoch 1, lr 0.1\n",
            "WARNING:tensorflow:From /usr/local/lib/python3.6/dist-packages/keras/backend/tensorflow_backend.py:190: The name tf.get_default_session is deprecated. Please use tf.compat.v1.get_default_session instead.\n",
            "\n",
            "WARNING:tensorflow:From /usr/local/lib/python3.6/dist-packages/keras/backend/tensorflow_backend.py:197: The name tf.ConfigProto is deprecated. Please use tf.compat.v1.ConfigProto instead.\n",
            "\n",
            "WARNING:tensorflow:From /usr/local/lib/python3.6/dist-packages/keras/backend/tensorflow_backend.py:207: The name tf.global_variables is deprecated. Please use tf.compat.v1.global_variables instead.\n",
            "\n",
            "WARNING:tensorflow:From /usr/local/lib/python3.6/dist-packages/keras/backend/tensorflow_backend.py:216: The name tf.is_variable_initialized is deprecated. Please use tf.compat.v1.is_variable_initialized instead.\n",
            "\n",
            "WARNING:tensorflow:From /usr/local/lib/python3.6/dist-packages/keras/backend/tensorflow_backend.py:223: The name tf.variables_initializer is deprecated. Please use tf.compat.v1.variables_initializer instead.\n",
            "\n",
            "50000/50000 [==============================] - 18s 366us/step - loss: 2.0582 - acc: 0.2354 - val_loss: 1.7448 - val_acc: 0.3391\n",
            "Epoch 2/60\n",
            "epoch 2, lr 0.09048374180359596\n",
            "50000/50000 [==============================] - 9s 187us/step - loss: 1.5547 - acc: 0.4354 - val_loss: 1.3270 - val_acc: 0.5160\n",
            "Epoch 3/60\n",
            "epoch 3, lr 0.0818730753077982\n",
            "50000/50000 [==============================] - 9s 189us/step - loss: 1.3542 - acc: 0.5118 - val_loss: 1.1985 - val_acc: 0.5707\n",
            "Epoch 4/60\n",
            "epoch 4, lr 0.0740818220681718\n",
            "50000/50000 [==============================] - 10s 192us/step - loss: 1.2152 - acc: 0.5683 - val_loss: 1.0923 - val_acc: 0.6117\n",
            "Epoch 5/60\n",
            "epoch 5, lr 0.06703200460356394\n",
            "50000/50000 [==============================] - 10s 192us/step - loss: 1.0981 - acc: 0.6114 - val_loss: 0.9779 - val_acc: 0.6589\n",
            "Epoch 6/60\n",
            "epoch 6, lr 0.06065306597126335\n",
            "50000/50000 [==============================] - 9s 189us/step - loss: 1.0043 - acc: 0.6457 - val_loss: 0.9725 - val_acc: 0.6624\n",
            "Epoch 7/60\n",
            "epoch 7, lr 0.05488116360940264\n",
            "50000/50000 [==============================] - 10s 190us/step - loss: 0.9319 - acc: 0.6721 - val_loss: 0.8921 - val_acc: 0.6928\n",
            "Epoch 8/60\n",
            "epoch 8, lr 0.04965853037914095\n",
            "50000/50000 [==============================] - 10s 190us/step - loss: 0.8706 - acc: 0.6906 - val_loss: 0.8190 - val_acc: 0.7149\n",
            "Epoch 9/60\n",
            "epoch 9, lr 0.044932896411722156\n",
            "50000/50000 [==============================] - 10s 193us/step - loss: 0.8078 - acc: 0.7154 - val_loss: 0.7956 - val_acc: 0.7267\n",
            "Epoch 10/60\n",
            "epoch 10, lr 0.04065696597405991\n",
            "50000/50000 [==============================] - 9s 189us/step - loss: 0.7645 - acc: 0.7292 - val_loss: 0.7664 - val_acc: 0.7355\n",
            "Epoch 11/60\n",
            "epoch 11, lr 0.036787944117144235\n",
            "50000/50000 [==============================] - 9s 187us/step - loss: 0.7284 - acc: 0.7445 - val_loss: 0.8756 - val_acc: 0.7046\n",
            "Epoch 12/60\n",
            "epoch 12, lr 0.03328710836980796\n",
            "50000/50000 [==============================] - 9s 188us/step - loss: 0.6870 - acc: 0.7565 - val_loss: 0.7662 - val_acc: 0.7385\n",
            "Epoch 13/60\n",
            "epoch 13, lr 0.030119421191220203\n",
            "50000/50000 [==============================] - 9s 188us/step - loss: 0.6450 - acc: 0.7703 - val_loss: 0.6846 - val_acc: 0.7639\n",
            "Epoch 14/60\n",
            "epoch 14, lr 0.02725317930340126\n",
            "50000/50000 [==============================] - 9s 186us/step - loss: 0.6223 - acc: 0.7815 - val_loss: 0.6866 - val_acc: 0.7639\n",
            "Epoch 15/60\n",
            "epoch 15, lr 0.024659696394160643\n",
            "50000/50000 [==============================] - 9s 189us/step - loss: 0.5954 - acc: 0.7890 - val_loss: 0.7049 - val_acc: 0.7623\n",
            "Epoch 16/60\n",
            "epoch 16, lr 0.022313016014842982\n",
            "50000/50000 [==============================] - 10s 191us/step - loss: 0.5669 - acc: 0.7990 - val_loss: 0.6960 - val_acc: 0.7661\n",
            "Epoch 17/60\n",
            "epoch 17, lr 0.02018965179946554\n",
            "50000/50000 [==============================] - 10s 191us/step - loss: 0.5521 - acc: 0.8025 - val_loss: 0.6518 - val_acc: 0.7786\n",
            "Epoch 18/60\n",
            "epoch 18, lr 0.018268352405273462\n",
            "50000/50000 [==============================] - 9s 188us/step - loss: 0.5248 - acc: 0.8140 - val_loss: 0.6496 - val_acc: 0.7794\n",
            "Epoch 19/60\n",
            "epoch 19, lr 0.016529888822158653\n",
            "50000/50000 [==============================] - 9s 189us/step - loss: 0.5033 - acc: 0.8213 - val_loss: 0.6569 - val_acc: 0.7768\n",
            "Epoch 20/60\n",
            "epoch 20, lr 0.014956861922263504\n",
            "50000/50000 [==============================] - 9s 187us/step - loss: 0.4922 - acc: 0.8246 - val_loss: 0.6409 - val_acc: 0.7844\n",
            "Epoch 21/60\n",
            "epoch 21, lr 0.013533528323661271\n",
            "50000/50000 [==============================] - 9s 186us/step - loss: 0.4780 - acc: 0.8302 - val_loss: 0.6366 - val_acc: 0.7846\n",
            "Epoch 22/60\n",
            "epoch 22, lr 0.012245642825298192\n",
            "50000/50000 [==============================] - 9s 187us/step - loss: 0.4648 - acc: 0.8336 - val_loss: 0.6285 - val_acc: 0.7911\n",
            "Epoch 23/60\n",
            "epoch 23, lr 0.011080315836233388\n",
            "50000/50000 [==============================] - 9s 187us/step - loss: 0.4556 - acc: 0.8376 - val_loss: 0.6431 - val_acc: 0.7831\n",
            "Epoch 24/60\n",
            "epoch 24, lr 0.010025884372280372\n",
            "50000/50000 [==============================] - 9s 188us/step - loss: 0.4406 - acc: 0.8420 - val_loss: 0.6476 - val_acc: 0.7858\n",
            "Epoch 25/60\n",
            "epoch 25, lr 0.009071795328941248\n",
            "50000/50000 [==============================] - 9s 190us/step - loss: 0.4312 - acc: 0.8461 - val_loss: 0.6408 - val_acc: 0.7862\n",
            "Epoch 26/60\n",
            "epoch 26, lr 0.008208499862389881\n",
            "50000/50000 [==============================] - 9s 189us/step - loss: 0.4207 - acc: 0.8495 - val_loss: 0.6316 - val_acc: 0.7900\n",
            "Epoch 27/60\n",
            "epoch 27, lr 0.007427357821433388\n",
            "50000/50000 [==============================] - 9s 188us/step - loss: 0.4197 - acc: 0.8488 - val_loss: 0.6212 - val_acc: 0.7925\n",
            "Epoch 28/60\n",
            "epoch 28, lr 0.006720551273974976\n",
            "50000/50000 [==============================] - 9s 187us/step - loss: 0.4067 - acc: 0.8542 - val_loss: 0.6267 - val_acc: 0.7904\n",
            "Epoch 29/60\n",
            "epoch 29, lr 0.006081006262521796\n",
            "50000/50000 [==============================] - 9s 186us/step - loss: 0.3954 - acc: 0.8575 - val_loss: 0.6264 - val_acc: 0.7904\n",
            "Epoch 30/60\n",
            "epoch 30, lr 0.005502322005640721\n",
            "50000/50000 [==============================] - 9s 185us/step - loss: 0.3930 - acc: 0.8568 - val_loss: 0.6295 - val_acc: 0.7917\n",
            "Epoch 31/60\n",
            "epoch 31, lr 0.004978706836786395\n",
            "50000/50000 [==============================] - 9s 187us/step - loss: 0.3850 - acc: 0.8620 - val_loss: 0.6350 - val_acc: 0.7919\n",
            "Epoch 32/60\n",
            "epoch 32, lr 0.00450492023935578\n",
            "50000/50000 [==============================] - 9s 188us/step - loss: 0.3815 - acc: 0.8630 - val_loss: 0.6199 - val_acc: 0.7950\n",
            "Epoch 33/60\n",
            "epoch 33, lr 0.0040762203978366215\n",
            "50000/50000 [==============================] - 10s 193us/step - loss: 0.3763 - acc: 0.8652 - val_loss: 0.6271 - val_acc: 0.7931\n",
            "Epoch 34/60\n",
            "epoch 34, lr 0.0036883167401239995\n",
            "50000/50000 [==============================] - 9s 187us/step - loss: 0.3752 - acc: 0.8648 - val_loss: 0.6189 - val_acc: 0.7947\n",
            "Epoch 35/60\n",
            "epoch 35, lr 0.003337326996032607\n",
            "50000/50000 [==============================] - 9s 189us/step - loss: 0.3665 - acc: 0.8675 - val_loss: 0.6191 - val_acc: 0.7971\n",
            "Epoch 36/60\n",
            "epoch 36, lr 0.00301973834223185\n",
            "50000/50000 [==============================] - 10s 192us/step - loss: 0.3704 - acc: 0.8661 - val_loss: 0.6181 - val_acc: 0.7966\n",
            "Epoch 37/60\n",
            "epoch 37, lr 0.0027323722447292562\n",
            "50000/50000 [==============================] - 9s 188us/step - loss: 0.3617 - acc: 0.8707 - val_loss: 0.6209 - val_acc: 0.7955\n",
            "Epoch 38/60\n",
            "epoch 38, lr 0.002472352647033939\n",
            "50000/50000 [==============================] - 9s 189us/step - loss: 0.3605 - acc: 0.8728 - val_loss: 0.6210 - val_acc: 0.7972\n",
            "Epoch 39/60\n",
            "epoch 39, lr 0.002237077185616559\n",
            "50000/50000 [==============================] - 9s 187us/step - loss: 0.3616 - acc: 0.8710 - val_loss: 0.6205 - val_acc: 0.7976\n",
            "Epoch 40/60\n",
            "epoch 40, lr 0.002024191144580438\n",
            "50000/50000 [==============================] - 9s 188us/step - loss: 0.3592 - acc: 0.8704 - val_loss: 0.6216 - val_acc: 0.7980\n",
            "Epoch 41/60\n",
            "epoch 41, lr 0.001831563888873418\n",
            "50000/50000 [==============================] - 9s 186us/step - loss: 0.3545 - acc: 0.8734 - val_loss: 0.6209 - val_acc: 0.7971\n",
            "Epoch 42/60\n",
            "epoch 42, lr 0.001657267540176124\n",
            "50000/50000 [==============================] - 10s 191us/step - loss: 0.3534 - acc: 0.8728 - val_loss: 0.6214 - val_acc: 0.7982\n",
            "Epoch 43/60\n",
            "epoch 43, lr 0.0014995576820477704\n",
            "50000/50000 [==============================] - 10s 190us/step - loss: 0.3477 - acc: 0.8754 - val_loss: 0.6242 - val_acc: 0.7980\n",
            "Epoch 44/60\n",
            "epoch 44, lr 0.0013568559012200935\n",
            "50000/50000 [==============================] - 9s 188us/step - loss: 0.3484 - acc: 0.8737 - val_loss: 0.6202 - val_acc: 0.7989\n",
            "Epoch 45/60\n",
            "epoch 45, lr 0.0012277339903068436\n",
            "50000/50000 [==============================] - 9s 187us/step - loss: 0.3454 - acc: 0.8765 - val_loss: 0.6209 - val_acc: 0.7988\n",
            "Epoch 46/60\n",
            "epoch 46, lr 0.0011108996538242307\n",
            "50000/50000 [==============================] - 9s 188us/step - loss: 0.3430 - acc: 0.8753 - val_loss: 0.6255 - val_acc: 0.7962\n",
            "Epoch 47/60\n",
            "epoch 47, lr 0.0010051835744633575\n",
            "50000/50000 [==============================] - 9s 187us/step - loss: 0.3459 - acc: 0.8756 - val_loss: 0.6221 - val_acc: 0.7984\n",
            "Epoch 48/60\n",
            "epoch 48, lr 0.0009095277101695816\n",
            "50000/50000 [==============================] - 9s 188us/step - loss: 0.3464 - acc: 0.8745 - val_loss: 0.6214 - val_acc: 0.7978\n",
            "Epoch 49/60\n",
            "epoch 49, lr 0.0008229747049020024\n",
            "50000/50000 [==============================] - 9s 188us/step - loss: 0.3465 - acc: 0.8757 - val_loss: 0.6195 - val_acc: 0.8004\n",
            "Epoch 50/60\n",
            "epoch 50, lr 0.0007446583070924339\n",
            "50000/50000 [==============================] - 9s 188us/step - loss: 0.3380 - acc: 0.8772 - val_loss: 0.6235 - val_acc: 0.7993\n",
            "Epoch 51/60\n",
            "epoch 51, lr 0.0006737946999085467\n",
            "50000/50000 [==============================] - 9s 187us/step - loss: 0.3385 - acc: 0.8789 - val_loss: 0.6232 - val_acc: 0.7980\n",
            "Epoch 52/60\n",
            "epoch 52, lr 0.0006096746565515633\n",
            "50000/50000 [==============================] - 9s 188us/step - loss: 0.3424 - acc: 0.8768 - val_loss: 0.6232 - val_acc: 0.7993\n",
            "Epoch 53/60\n",
            "epoch 53, lr 0.0005516564420760772\n",
            "50000/50000 [==============================] - 9s 187us/step - loss: 0.3397 - acc: 0.8777 - val_loss: 0.6233 - val_acc: 0.7986\n",
            "Epoch 54/60\n",
            "epoch 54, lr 0.0004991593906910213\n",
            "50000/50000 [==============================] - 9s 189us/step - loss: 0.3387 - acc: 0.8777 - val_loss: 0.6236 - val_acc: 0.7992\n",
            "Epoch 55/60\n",
            "epoch 55, lr 0.0004516580942612666\n",
            "50000/50000 [==============================] - 9s 188us/step - loss: 0.3365 - acc: 0.8785 - val_loss: 0.6237 - val_acc: 0.7988\n",
            "Epoch 56/60\n",
            "epoch 56, lr 0.00040867714384640666\n",
            "50000/50000 [==============================] - 9s 188us/step - loss: 0.3362 - acc: 0.8795 - val_loss: 0.6231 - val_acc: 0.8000\n",
            "Epoch 57/60\n",
            "epoch 57, lr 0.0003697863716482929\n",
            "50000/50000 [==============================] - 9s 187us/step - loss: 0.3358 - acc: 0.8783 - val_loss: 0.6234 - val_acc: 0.7997\n",
            "Epoch 58/60\n",
            "epoch 58, lr 0.0003345965457471272\n",
            "50000/50000 [==============================] - 9s 188us/step - loss: 0.3407 - acc: 0.8772 - val_loss: 0.6217 - val_acc: 0.7992\n",
            "Epoch 59/60\n",
            "epoch 59, lr 0.0003027554745375813\n",
            "50000/50000 [==============================] - 10s 192us/step - loss: 0.3400 - acc: 0.8773 - val_loss: 0.6258 - val_acc: 0.7985\n",
            "Epoch 60/60\n",
            "epoch 60, lr 0.00027394448187683686\n",
            "50000/50000 [==============================] - 9s 188us/step - loss: 0.3388 - acc: 0.8784 - val_loss: 0.6238 - val_acc: 0.8000\n",
            "CPU times: user 10min 38s, sys: 1min 4s, total: 11min 43s\n",
            "Wall time: 9min 35s\n"
          ],
          "name": "stdout"
        }
      ]
    },
    {
      "cell_type": "code",
      "metadata": {
        "id": "-y2_kIra1cqV",
        "colab_type": "code",
        "outputId": "c351ef45-3336-4441-fbf9-6010d24bf772",
        "colab": {
          "base_uri": "https://localhost:8080/",
          "height": 69
        }
      },
      "source": [
        "_, train_acc = model.evaluate(trainX, trainY_cat)\n",
        "_, val_acc = model.evaluate(testX, testY_cat)\n",
        "print('Train: %.3f, Test: %.3f' % (train_acc, val_acc))"
      ],
      "execution_count": 9,
      "outputs": [
        {
          "output_type": "stream",
          "text": [
            "50000/50000 [==============================] - 4s 71us/step\n",
            "10000/10000 [==============================] - 1s 71us/step\n",
            "Train: 0.970, Test: 0.800\n"
          ],
          "name": "stdout"
        }
      ]
    },
    {
      "cell_type": "code",
      "metadata": {
        "id": "9T_Gao5c3wLD",
        "colab_type": "code",
        "outputId": "c705cd7a-737d-4588-94ac-19cc5d9fe968",
        "colab": {
          "base_uri": "https://localhost:8080/",
          "height": 266
        }
      },
      "source": [
        "plt.plot(history.history['acc'], label='train')\n",
        "plt.plot(history.history['val_acc'], label='val')\n",
        "plt.legend()\n",
        "plt.show()"
      ],
      "execution_count": 10,
      "outputs": [
        {
          "output_type": "display_data",
          "data": {
            "image/png": "[encoded data removed]",
            "text/plain": [
              "<Figure size 432x288 with 1 Axes>"
            ]
          },
          "metadata": {
            "tags": []
          }
        }
      ]
    },
    {
      "cell_type": "code",
      "metadata": {
        "id": "55QZuZ5eS5Il",
        "colab_type": "code",
        "outputId": "79bd60d1-a3fd-4be7-a4f5-e62b4d007e0c",
        "colab": {
          "base_uri": "https://localhost:8080/",
          "height": 265
        }
      },
      "source": [
        "plt.plot(lrs.lrates, label='Learning Rate')\n",
        "plt.legend()\n",
        "plt.show()"
      ],
      "execution_count": 11,
      "outputs": [
        {
          "output_type": "display_data",
          "data": {
            "image/png": "[encoded data removed]",
            "text/plain": [
              "<Figure size 432x288 with 1 Axes>"
            ]
          },
          "metadata": {
            "tags": []
          }
        }
      ]
    },
    {
      "cell_type": "markdown",
      "metadata": {
        "id": "S0TNSFdN2h0K",
        "colab_type": "text"
      },
      "source": [
        "# 3.Snapshot Ensemble "
      ]
    },
    {
      "cell_type": "markdown",
      "metadata": {
        "id": "qJLt56WkDLNz",
        "colab_type": "text"
      },
      "source": [
        "## 3.1 Create Snapshots"
      ]
    },
    {
      "cell_type": "code",
      "metadata": {
        "id": "CtPudwxH5aId",
        "colab_type": "code",
        "colab": {}
      },
      "source": [
        "# https://machinelearningmastery.com/snapshot-ensemble-deep-learning-neural-network/\n",
        "class SnapshotEnsemble(Callback):\n",
        "  def __init__(self, n_epochs, n_cycles, lrate_max, verbose=0):\n",
        "    self.epochs = n_epochs\n",
        "    self.cycles = n_cycles\n",
        "    self.lr_max = lrate_max\n",
        "    self.lrates = list()\n",
        "\n",
        "  def cosine_annealing(self, epoch, n_epochs, n_cycles, lrate_max):\n",
        "    epochs_per_cycle = n_epochs // n_cycles\n",
        "    cos_inner = (np.pi * (epoch % epochs_per_cycle)) / (epochs_per_cycle)\n",
        "    return lrate_max/2 * (np.cos(cos_inner) + 1)\n",
        "\n",
        "  def on_epoch_begin(self, epoch, logs={}):\n",
        "    lr = self.cosine_annealing(epoch, self.epochs, self.cycles, self.lr_max)\n",
        "    print(f'epoch {epoch+1}, lr {lr}')\n",
        "    K.set_value(self.model.optimizer.lr, lr)\n",
        "    self.lrates.append(lr)\n",
        "\n",
        "  def on_epoch_end(self, epoch, logs={}):\n",
        "    epochs_per_cycle = n_epochs // n_cycles\n",
        "    if epoch != 0 and (epoch + 1) % epochs_per_cycle == 0:\n",
        "      filename = f\"snapshot_model_{int((epoch+1) / epochs_per_cycle)}.h5\"\n",
        "      self.model.save(filename)\n",
        "      print(f'>saved snapshot {filename}, epoch {epoch}')"
      ],
      "execution_count": 0,
      "outputs": []
    },
    {
      "cell_type": "code",
      "metadata": {
        "id": "rOyZIdGX7dTZ",
        "colab_type": "code",
        "outputId": "5c942dec-8959-4fd7-e3ac-28dcf7c9eab5",
        "colab": {
          "base_uri": "https://localhost:8080/",
          "height": 1000
        }
      },
      "source": [
        "%%time\n",
        "model2 = my_model()\n",
        "model2.compile('sgd', loss='categorical_crossentropy', metrics=['accuracy'])\n",
        "\n",
        "n_epochs = 60\n",
        "n_cycles = n_epochs / 20\n",
        "ca = SnapshotEnsemble(n_epochs, n_cycles, 0.1)\n",
        "\n",
        "hist2 = model2.fit(trainX, trainY_cat, validation_data=(testX, testY_cat), epochs=n_epochs, batch_size = batch_size, callbacks=[ca])"
      ],
      "execution_count": 13,
      "outputs": [
        {
          "output_type": "stream",
          "text": [
            "Train on 50000 samples, validate on 10000 samples\n",
            "Epoch 1/60\n",
            "epoch 1, lr 0.1\n",
            "50000/50000 [==============================] - 10s 201us/step - loss: 2.1095 - acc: 0.2128 - val_loss: 1.8017 - val_acc: 0.3512\n",
            "Epoch 2/60\n",
            "epoch 2, lr 0.0993844170297569\n",
            "50000/50000 [==============================] - 9s 189us/step - loss: 1.6153 - acc: 0.4106 - val_loss: 1.4958 - val_acc: 0.4643\n",
            "Epoch 3/60\n",
            "epoch 3, lr 0.09755282581475769\n",
            "50000/50000 [==============================] - 9s 189us/step - loss: 1.4161 - acc: 0.4840 - val_loss: 1.2719 - val_acc: 0.5441\n",
            "Epoch 4/60\n",
            "epoch 4, lr 0.09455032620941839\n",
            "50000/50000 [==============================] - 9s 189us/step - loss: 1.2624 - acc: 0.5491 - val_loss: 1.1059 - val_acc: 0.6137\n",
            "Epoch 5/60\n",
            "epoch 5, lr 0.09045084971874738\n",
            "50000/50000 [==============================] - 10s 194us/step - loss: 1.1411 - acc: 0.5953 - val_loss: 0.9912 - val_acc: 0.6518\n",
            "Epoch 6/60\n",
            "epoch 6, lr 0.08535533905932738\n",
            "50000/50000 [==============================] - 10s 191us/step - loss: 1.0370 - acc: 0.6305 - val_loss: 0.9592 - val_acc: 0.6663\n",
            "Epoch 7/60\n",
            "epoch 7, lr 0.07938926261462366\n",
            "50000/50000 [==============================] - 10s 193us/step - loss: 0.9482 - acc: 0.6662 - val_loss: 0.8835 - val_acc: 0.6953\n",
            "Epoch 8/60\n",
            "epoch 8, lr 0.07269952498697733\n",
            "50000/50000 [==============================] - 9s 189us/step - loss: 0.8832 - acc: 0.6909 - val_loss: 0.8165 - val_acc: 0.7147\n",
            "Epoch 9/60\n",
            "epoch 9, lr 0.06545084971874737\n",
            "50000/50000 [==============================] - 9s 190us/step - loss: 0.8188 - acc: 0.7106 - val_loss: 0.7952 - val_acc: 0.7247\n",
            "Epoch 10/60\n",
            "epoch 10, lr 0.05782172325201155\n",
            "50000/50000 [==============================] - 9s 189us/step - loss: 0.7642 - acc: 0.7299 - val_loss: 0.9018 - val_acc: 0.6969\n",
            "Epoch 11/60\n",
            "epoch 11, lr 0.05\n",
            "50000/50000 [==============================] - 9s 189us/step - loss: 0.7121 - acc: 0.7480 - val_loss: 0.7384 - val_acc: 0.7467\n",
            "Epoch 12/60\n",
            "epoch 12, lr 0.04217827674798847\n",
            "50000/50000 [==============================] - 10s 191us/step - loss: 0.6636 - acc: 0.7633 - val_loss: 0.6997 - val_acc: 0.7612\n",
            "Epoch 13/60\n",
            "epoch 13, lr 0.03454915028125263\n",
            "50000/50000 [==============================] - 9s 187us/step - loss: 0.6216 - acc: 0.7797 - val_loss: 0.7007 - val_acc: 0.7607\n",
            "Epoch 14/60\n",
            "epoch 14, lr 0.027300475013022664\n",
            "50000/50000 [==============================] - 9s 187us/step - loss: 0.5799 - acc: 0.7949 - val_loss: 0.6626 - val_acc: 0.7747\n",
            "Epoch 15/60\n",
            "epoch 15, lr 0.02061073738537635\n",
            "50000/50000 [==============================] - 9s 186us/step - loss: 0.5528 - acc: 0.8021 - val_loss: 0.6507 - val_acc: 0.7799\n",
            "Epoch 16/60\n",
            "epoch 16, lr 0.014644660940672627\n",
            "50000/50000 [==============================] - 9s 187us/step - loss: 0.5175 - acc: 0.8152 - val_loss: 0.6441 - val_acc: 0.7826\n",
            "Epoch 17/60\n",
            "epoch 17, lr 0.009549150281252633\n",
            "50000/50000 [==============================] - 9s 188us/step - loss: 0.4946 - acc: 0.8221 - val_loss: 0.6389 - val_acc: 0.7847\n",
            "Epoch 18/60\n",
            "epoch 18, lr 0.005449673790581611\n",
            "50000/50000 [==============================] - 9s 189us/step - loss: 0.4760 - acc: 0.8288 - val_loss: 0.6236 - val_acc: 0.7906\n",
            "Epoch 19/60\n",
            "epoch 19, lr 0.0024471741852423235\n",
            "50000/50000 [==============================] - 9s 189us/step - loss: 0.4650 - acc: 0.8347 - val_loss: 0.6249 - val_acc: 0.7915\n",
            "Epoch 20/60\n",
            "epoch 20, lr 0.0006155829702431171\n",
            "50000/50000 [==============================] - 10s 194us/step - loss: 0.4577 - acc: 0.8363 - val_loss: 0.6255 - val_acc: 0.7908\n",
            ">saved snapshot snapshot_model_1.h5, epoch 19\n",
            "Epoch 21/60\n",
            "epoch 21, lr 0.1\n",
            "50000/50000 [==============================] - 9s 187us/step - loss: 0.7889 - acc: 0.7243 - val_loss: 0.9481 - val_acc: 0.6844\n",
            "Epoch 22/60\n",
            "epoch 22, lr 0.0993844170297569\n",
            "50000/50000 [==============================] - 9s 190us/step - loss: 0.7794 - acc: 0.7292 - val_loss: 0.8378 - val_acc: 0.7116\n",
            "Epoch 23/60\n",
            "epoch 23, lr 0.09755282581475769\n",
            "50000/50000 [==============================] - 10s 192us/step - loss: 0.7560 - acc: 0.7388 - val_loss: 0.7983 - val_acc: 0.7284\n",
            "Epoch 24/60\n",
            "epoch 24, lr 0.09455032620941839\n",
            "50000/50000 [==============================] - 9s 188us/step - loss: 0.7372 - acc: 0.7425 - val_loss: 0.7415 - val_acc: 0.7387\n",
            "Epoch 25/60\n",
            "epoch 25, lr 0.09045084971874738\n",
            "50000/50000 [==============================] - 9s 187us/step - loss: 0.7126 - acc: 0.7528 - val_loss: 0.7375 - val_acc: 0.7470\n",
            "Epoch 26/60\n",
            "epoch 26, lr 0.08535533905932738\n",
            "50000/50000 [==============================] - 10s 191us/step - loss: 0.6729 - acc: 0.7633 - val_loss: 0.7302 - val_acc: 0.7527\n",
            "Epoch 27/60\n",
            "epoch 27, lr 0.07938926261462366\n",
            "50000/50000 [==============================] - 9s 188us/step - loss: 0.6415 - acc: 0.7758 - val_loss: 0.7564 - val_acc: 0.7466\n",
            "Epoch 28/60\n",
            "epoch 28, lr 0.07269952498697733\n",
            "50000/50000 [==============================] - 9s 187us/step - loss: 0.6030 - acc: 0.7880 - val_loss: 0.6981 - val_acc: 0.7699\n",
            "Epoch 29/60\n",
            "epoch 29, lr 0.06545084971874737\n",
            "50000/50000 [==============================] - 9s 188us/step - loss: 0.5638 - acc: 0.8009 - val_loss: 0.7159 - val_acc: 0.7565\n",
            "Epoch 30/60\n",
            "epoch 30, lr 0.05782172325201155\n",
            "50000/50000 [==============================] - 10s 190us/step - loss: 0.5308 - acc: 0.8129 - val_loss: 0.7028 - val_acc: 0.7651\n",
            "Epoch 31/60\n",
            "epoch 31, lr 0.05\n",
            "50000/50000 [==============================] - 9s 190us/step - loss: 0.4829 - acc: 0.8306 - val_loss: 0.6411 - val_acc: 0.7866\n",
            "Epoch 32/60\n",
            "epoch 32, lr 0.04217827674798847\n",
            "50000/50000 [==============================] - 9s 190us/step - loss: 0.4477 - acc: 0.8416 - val_loss: 0.6659 - val_acc: 0.7815\n",
            "Epoch 33/60\n",
            "epoch 33, lr 0.03454915028125263\n",
            "50000/50000 [==============================] - 9s 189us/step - loss: 0.4171 - acc: 0.8519 - val_loss: 0.6309 - val_acc: 0.7938\n",
            "Epoch 34/60\n",
            "epoch 34, lr 0.027300475013022664\n",
            "50000/50000 [==============================] - 9s 189us/step - loss: 0.3887 - acc: 0.8608 - val_loss: 0.6218 - val_acc: 0.8003\n",
            "Epoch 35/60\n",
            "epoch 35, lr 0.02061073738537635\n",
            "50000/50000 [==============================] - 9s 188us/step - loss: 0.3532 - acc: 0.8750 - val_loss: 0.6281 - val_acc: 0.7977\n",
            "Epoch 36/60\n",
            "epoch 36, lr 0.014644660940672627\n",
            "50000/50000 [==============================] - 9s 189us/step - loss: 0.3319 - acc: 0.8811 - val_loss: 0.6157 - val_acc: 0.8040\n",
            "Epoch 37/60\n",
            "epoch 37, lr 0.009549150281252633\n",
            "50000/50000 [==============================] - 9s 189us/step - loss: 0.3158 - acc: 0.8869 - val_loss: 0.6109 - val_acc: 0.8049\n",
            "Epoch 38/60\n",
            "epoch 38, lr 0.005449673790581611\n",
            "50000/50000 [==============================] - 10s 194us/step - loss: 0.3052 - acc: 0.8917 - val_loss: 0.6095 - val_acc: 0.8038\n",
            "Epoch 39/60\n",
            "epoch 39, lr 0.0024471741852423235\n",
            "50000/50000 [==============================] - 10s 191us/step - loss: 0.2986 - acc: 0.8923 - val_loss: 0.6095 - val_acc: 0.8056\n",
            "Epoch 40/60\n",
            "epoch 40, lr 0.0006155829702431171\n",
            "50000/50000 [==============================] - 9s 187us/step - loss: 0.2933 - acc: 0.8950 - val_loss: 0.6093 - val_acc: 0.8057\n",
            ">saved snapshot snapshot_model_2.h5, epoch 39\n",
            "Epoch 41/60\n",
            "epoch 41, lr 0.1\n",
            "50000/50000 [==============================] - 10s 191us/step - loss: 0.6261 - acc: 0.7829 - val_loss: 0.7210 - val_acc: 0.7632\n",
            "Epoch 42/60\n",
            "epoch 42, lr 0.0993844170297569\n",
            "50000/50000 [==============================] - 10s 191us/step - loss: 0.6552 - acc: 0.7759 - val_loss: 0.8644 - val_acc: 0.7071\n",
            "Epoch 43/60\n",
            "epoch 43, lr 0.09755282581475769\n",
            "50000/50000 [==============================] - 9s 189us/step - loss: 0.6553 - acc: 0.7744 - val_loss: 0.7261 - val_acc: 0.7544\n",
            "Epoch 44/60\n",
            "epoch 44, lr 0.09455032620941839\n",
            "50000/50000 [==============================] - 9s 188us/step - loss: 0.6336 - acc: 0.7813 - val_loss: 0.7915 - val_acc: 0.7366\n",
            "Epoch 45/60\n",
            "epoch 45, lr 0.09045084971874738\n",
            "50000/50000 [==============================] - 9s 190us/step - loss: 0.6224 - acc: 0.7860 - val_loss: 0.7650 - val_acc: 0.7448\n",
            "Epoch 46/60\n",
            "epoch 46, lr 0.08535533905932738\n",
            "50000/50000 [==============================] - 10s 190us/step - loss: 0.6020 - acc: 0.7929 - val_loss: 0.7580 - val_acc: 0.7465\n",
            "Epoch 47/60\n",
            "epoch 47, lr 0.07938926261462366\n",
            "50000/50000 [==============================] - 9s 188us/step - loss: 0.5686 - acc: 0.8064 - val_loss: 0.6914 - val_acc: 0.7701\n",
            "Epoch 48/60\n",
            "epoch 48, lr 0.07269952498697733\n",
            "50000/50000 [==============================] - 9s 190us/step - loss: 0.5349 - acc: 0.8145 - val_loss: 0.7061 - val_acc: 0.7648\n",
            "Epoch 49/60\n",
            "epoch 49, lr 0.06545084971874737\n",
            "50000/50000 [==============================] - 9s 187us/step - loss: 0.4932 - acc: 0.8292 - val_loss: 0.6900 - val_acc: 0.7751\n",
            "Epoch 50/60\n",
            "epoch 50, lr 0.05782172325201155\n",
            "50000/50000 [==============================] - 10s 191us/step - loss: 0.4558 - acc: 0.8411 - val_loss: 0.7314 - val_acc: 0.7708\n",
            "Epoch 51/60\n",
            "epoch 51, lr 0.05\n",
            "50000/50000 [==============================] - 9s 190us/step - loss: 0.4149 - acc: 0.8538 - val_loss: 0.6671 - val_acc: 0.7851\n",
            "Epoch 52/60\n",
            "epoch 52, lr 0.04217827674798847\n",
            "50000/50000 [==============================] - 9s 188us/step - loss: 0.3791 - acc: 0.8660 - val_loss: 0.6405 - val_acc: 0.8023\n",
            "Epoch 53/60\n",
            "epoch 53, lr 0.03454915028125263\n",
            "50000/50000 [==============================] - 9s 189us/step - loss: 0.3483 - acc: 0.8769 - val_loss: 0.6905 - val_acc: 0.7869\n",
            "Epoch 54/60\n",
            "epoch 54, lr 0.027300475013022664\n",
            "50000/50000 [==============================] - 9s 185us/step - loss: 0.3214 - acc: 0.8862 - val_loss: 0.6377 - val_acc: 0.8006\n",
            "Epoch 55/60\n",
            "epoch 55, lr 0.02061073738537635\n",
            "50000/50000 [==============================] - 9s 190us/step - loss: 0.2980 - acc: 0.8933 - val_loss: 0.6344 - val_acc: 0.8085\n",
            "Epoch 56/60\n",
            "epoch 56, lr 0.014644660940672627\n",
            "50000/50000 [==============================] - 9s 189us/step - loss: 0.2765 - acc: 0.9010 - val_loss: 0.6261 - val_acc: 0.8107\n",
            "Epoch 57/60\n",
            "epoch 57, lr 0.009549150281252633\n",
            "50000/50000 [==============================] - 9s 188us/step - loss: 0.2595 - acc: 0.9079 - val_loss: 0.6229 - val_acc: 0.8116\n",
            "Epoch 58/60\n",
            "epoch 58, lr 0.005449673790581611\n",
            "50000/50000 [==============================] - 9s 190us/step - loss: 0.2528 - acc: 0.9099 - val_loss: 0.6315 - val_acc: 0.8111\n",
            "Epoch 59/60\n",
            "epoch 59, lr 0.0024471741852423235\n",
            "50000/50000 [==============================] - 9s 188us/step - loss: 0.2475 - acc: 0.9120 - val_loss: 0.6269 - val_acc: 0.8135\n",
            "Epoch 60/60\n",
            "epoch 60, lr 0.0006155829702431171\n",
            "50000/50000 [==============================] - 10s 191us/step - loss: 0.2453 - acc: 0.9133 - val_loss: 0.6259 - val_acc: 0.8142\n",
            ">saved snapshot snapshot_model_3.h5, epoch 59\n",
            "CPU times: user 10min 41s, sys: 1min 5s, total: 11min 46s\n",
            "Wall time: 9min 29s\n"
          ],
          "name": "stdout"
        }
      ]
    },
    {
      "cell_type": "code",
      "metadata": {
        "id": "cpkRqhKm8DNM",
        "colab_type": "code",
        "outputId": "12f3c522-3133-422a-9b4a-0eca30699d1d",
        "colab": {
          "base_uri": "https://localhost:8080/",
          "height": 69
        }
      },
      "source": [
        "_, train_acc2 = model2.evaluate(trainX, trainY_cat)\n",
        "_, val_acc2 = model2.evaluate(testX, testY_cat)\n",
        "print('Train: %.3f, Test: %.3f' % (train_acc2, val_acc2))"
      ],
      "execution_count": 14,
      "outputs": [
        {
          "output_type": "stream",
          "text": [
            "50000/50000 [==============================] - 4s 73us/step\n",
            "10000/10000 [==============================] - 1s 73us/step\n",
            "Train: 0.990, Test: 0.814\n"
          ],
          "name": "stdout"
        }
      ]
    },
    {
      "cell_type": "code",
      "metadata": {
        "id": "e3a-peVcEf4E",
        "colab_type": "code",
        "outputId": "aa10b9c1-ebf6-40b0-f3ce-cc83f2e8d258",
        "colab": {
          "base_uri": "https://localhost:8080/",
          "height": 265
        }
      },
      "source": [
        "plt.plot(hist2.history['acc'], label='train')\n",
        "plt.plot(hist2.history['val_acc'], label='val')\n",
        "plt.legend()\n",
        "plt.show()"
      ],
      "execution_count": 15,
      "outputs": [
        {
          "output_type": "display_data",
          "data": {
            "image/png": "[encoded data removed]",
            "text/plain": [
              "<Figure size 432x288 with 1 Axes>"
            ]
          },
          "metadata": {
            "tags": []
          }
        }
      ]
    },
    {
      "cell_type": "code",
      "metadata": {
        "id": "iD7kiurmTpdb",
        "colab_type": "code",
        "outputId": "7bfe48cd-a87b-44a6-b392-8cdf3c9efb60",
        "colab": {
          "base_uri": "https://localhost:8080/",
          "height": 265
        }
      },
      "source": [
        "plt.plot(ca.lrates, label='Learning Rate')\n",
        "plt.legend()\n",
        "plt.show()"
      ],
      "execution_count": 16,
      "outputs": [
        {
          "output_type": "display_data",
          "data": {
            "image/png": "[encoded data removed]",
            "text/plain": [
              "<Figure size 432x288 with 1 Axes>"
            ]
          },
          "metadata": {
            "tags": []
          }
        }
      ]
    },
    {
      "cell_type": "markdown",
      "metadata": {
        "id": "GDR0_YVMDP3r",
        "colab_type": "text"
      },
      "source": [
        "## 3.2 Make Ensemble Prediction"
      ]
    },
    {
      "cell_type": "code",
      "metadata": {
        "id": "xOtOnneKA5TS",
        "colab_type": "code",
        "colab": {}
      },
      "source": [
        "# load models from file\n",
        "def load_all_models(n_models):\n",
        "\tall_models = list()\n",
        "\tfor i in range(n_models):\n",
        "\t\t# define filename for this ensemble\n",
        "\t\tfilename = 'snapshot_model_' + str(i + 1) + '.h5'\n",
        "\t\t# load model from file\n",
        "\t\tmodel = load_model(filename)\n",
        "\t\t# add to list of members\n",
        "\t\tall_models.append(model)\n",
        "\t\tprint('>loaded %s' % filename)\n",
        "\treturn all_models"
      ],
      "execution_count": 0,
      "outputs": []
    },
    {
      "cell_type": "code",
      "metadata": {
        "id": "qBlBeH3gMo67",
        "colab_type": "code",
        "colab": {}
      },
      "source": [
        "# make an ensemble prediction for multi-class classification\n",
        "def ensemble_predictions(members, testX):\n",
        "\t# make predictions\n",
        "\tyhats = [model.predict(testX) for model in members]\n",
        "\tyhats = np.array(yhats)\n",
        "\t# sum across ensemble members\n",
        "\tsummed = np.sum(yhats, axis=0)\n",
        "\t# argmax across classes\n",
        "\tresult = np.argmax(summed, axis=1)\n",
        "\treturn result"
      ],
      "execution_count": 0,
      "outputs": []
    },
    {
      "cell_type": "code",
      "metadata": {
        "id": "AvZe8m75MtmS",
        "colab_type": "code",
        "colab": {}
      },
      "source": [
        "# evaluate a specific number of members in an ensemble\n",
        "def evaluate_n_members(members, n_members, testX, testy):\n",
        "\t# select a subset of members\n",
        "\tsubset = members[:n_members]\n",
        "\t# make prediction\n",
        "\tyhat = ensemble_predictions(subset, testX)\n",
        "\t# calculate accuracy\n",
        "\treturn accuracy_score(testy, yhat)"
      ],
      "execution_count": 0,
      "outputs": []
    },
    {
      "cell_type": "code",
      "metadata": {
        "id": "mp_r5vPcM0vR",
        "colab_type": "code",
        "outputId": "b6b2bf7a-ee8b-4978-b382-4ad36c48507c",
        "colab": {
          "base_uri": "https://localhost:8080/",
          "height": 69
        }
      },
      "source": [
        "members = load_all_models(3)\n",
        "members = list(reversed(members)) "
      ],
      "execution_count": 20,
      "outputs": [
        {
          "output_type": "stream",
          "text": [
            ">loaded snapshot_model_1.h5\n",
            ">loaded snapshot_model_2.h5\n",
            ">loaded snapshot_model_3.h5\n"
          ],
          "name": "stdout"
        }
      ]
    },
    {
      "cell_type": "code",
      "metadata": {
        "id": "djp_-w64OXNh",
        "colab_type": "code",
        "outputId": "12ae85d9-c64a-49de-d772-c7e520f2db5f",
        "colab": {
          "base_uri": "https://localhost:8080/",
          "height": 87
        }
      },
      "source": [
        "# evaluate different numbers of ensembles on hold out set\n",
        "single_scores, ensemble_scores = list(), list()\n",
        "for i in range(1, len(members)+1):\n",
        "\t# evaluate model with i members\n",
        "\tensemble_score = evaluate_n_members(members, i, testX, np.argmax(testY_cat, axis=1))\n",
        "\t# evaluate the i'th model standalone\n",
        "\t_, single_score = members[i-1].evaluate(testX, testY_cat, verbose=0)\n",
        "\t# summarize this step\n",
        "\tprint('> %d: single=%.3f, ensemble=%.3f' % (i, single_score, ensemble_score))\n",
        "\tensemble_scores.append(ensemble_score)\n",
        "\tsingle_scores.append(single_score)\n",
        "# summarize average accuracy of a single final model\n",
        "print('Accuracy %.3f (%.3f)' % (np.mean(single_scores), np.std(single_scores)))"
      ],
      "execution_count": 21,
      "outputs": [
        {
          "output_type": "stream",
          "text": [
            "> 1: single=0.814, ensemble=0.814\n",
            "> 2: single=0.806, ensemble=0.816\n",
            "> 3: single=0.791, ensemble=0.816\n",
            "Accuracy 0.804 (0.010)\n"
          ],
          "name": "stdout"
        }
      ]
    }
  ]
}